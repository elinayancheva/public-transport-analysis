{
 "cells": [
  {
   "cell_type": "markdown",
   "metadata": {},
   "source": [
    "# Public transport analysis \n",
    "By Elina Yancheva"
   ]
  },
  {
   "cell_type": "code",
   "execution_count": null,
   "metadata": {},
   "outputs": [],
   "source": [
    "import pandas as pd\n",
    "import matplotlib.pyplot as plt\n",
    "import seaborn as sns\n",
    "import folium\n",
    "from folium.plugins import HeatMap\n",
    "from sklearn.cluster import DBSCAN"
   ]
  },
  {
   "cell_type": "code",
   "execution_count": null,
   "metadata": {},
   "outputs": [],
   "source": [
    "df = pd.read_csv('data/transport_data.csv')\n",
    "display(df.head())\n",
    "print(df.columns)"
   ]
  },
  {
   "cell_type": "markdown",
   "metadata": {},
   "source": [
    "# Data cleaning and preparation"
   ]
  },
  {
   "cell_type": "code",
   "execution_count": null,
   "metadata": {},
   "outputs": [],
   "source": [
    "# converting millisecond timestamps to datetime\n",
    "df['dest_datetime'] = pd.to_datetime(df['dest_ts'], unit='ms')\n",
    "df['hour_of_day'] = df['dest_datetime'].dt.hour if 'dest_datetime' in df.columns else None\n",
    "\n",
    "df['trip_duration_min'] = df['boarding_t'] / 60  # assuming boarding_t is in seconds\n",
    "\n",
    "for col in df.columns:\n",
    "    missing_pct = df[col].isnull().mean() * 100\n",
    "    if missing_pct > 0:\n",
    "        print(f\"{col}: {missing_pct:.2f}% missing\")\n",
    "\n",
    "# filter out invalid coordinates\n",
    "print(f\"In total, {df.shape[0]} records\")\n",
    "df = df[(df['tap_lat'].between(42, 43)) & (df['tap_lon'].between(23, 24))]  # Bounds of Sofia region\n",
    "print(f\"{df.shape[0]} records in Sofia region\")\n",
    "\n",
    "df.head()"
   ]
  },
  {
   "cell_type": "code",
   "execution_count": null,
   "metadata": {},
   "outputs": [],
   "source": [
    "# Head of lines with missing og_line_id\n",
    "missing_og_line = df[df['og_line_id'].isnull()]\n",
    "print(missing_og_line['transport_type'].value_counts())\n",
    "print(\"---\")\n",
    "print(f\"All metro records don't have og_line_id: \\\n",
    "       {df[df['transport_type'] == 'metro']['og_line_id'].isnull().sum() == df[df['transport_type'] == 'metro'].shape[0]}\")"
   ]
  },
  {
   "cell_type": "code",
   "execution_count": null,
   "metadata": {},
   "outputs": [],
   "source": [
    "# For each column with significant missing data, check transport type distribution\n",
    "for col in ['media_id', 'product_id', 'pan', 'og_line_id', 'task_id', 'boarding_dist']:\n",
    "    print(f\"\\nMissing {col} by transport type:\")\n",
    "    print(df[df[col].isnull()]['transport_type'].value_counts())"
   ]
  },
  {
   "cell_type": "markdown",
   "metadata": {},
   "source": [
    "Aparently, metro doesn't have information about boarding distance, task_id and line id."
   ]
  },
  {
   "cell_type": "code",
   "execution_count": null,
   "metadata": {},
   "outputs": [],
   "source": [
    "# Check for negative values in numeric columns where negative values would be problematic\n",
    "negative_value_checks = {}\n",
    "\n",
    "# Time-related variables shouldn't be negative\n",
    "for col in ['boarding_t', 'transfer_t', 'origin_ts', 'dest_ts']:\n",
    "    if col in df.columns:\n",
    "        neg_count = (df[col] < 0).sum()\n",
    "        neg_pct = (df[col] < 0).mean() * 100 if neg_count > 0 else 0\n",
    "        negative_value_checks[col] = {'count': neg_count, 'percentage': neg_pct}\n",
    "\n",
    "# Distance-related variables shouldn't be negative\n",
    "for col in ['boarding_dist', 'transfer_dist']:\n",
    "    if col in df.columns:\n",
    "        neg_count = (df[col] < 0).sum()\n",
    "        neg_pct = (df[col] < 0).mean() * 100 if neg_count > 0 else 0\n",
    "        negative_value_checks[col] = {'count': neg_count, 'percentage': neg_pct}\n",
    "\n",
    "# Coordinate variables (latitudes and longitudes) shouldn't be zero (not necessarily negative)\n",
    "# For this specific region, coordinates should be in a certain range\n",
    "for col in ['tap_lat', 'tap_lon', 'origin_stop_lat', 'origin_stop_lon', 'dest_stop_lat', 'dest_stop_lon']:\n",
    "    if col in df.columns:\n",
    "        zero_count = (df[col] == 0).sum()\n",
    "        zero_pct = (df[col] == 0).mean() * 100 if zero_count > 0 else 0\n",
    "        negative_value_checks[f\"{col}_zero\"] = {'count': zero_count, 'percentage': zero_pct}\n",
    "\n",
    "# Print the results\n",
    "print(\"Negative Value Checks:\")\n",
    "for col, stats in negative_value_checks.items():\n",
    "    if stats['count'] > 0:\n",
    "        print(f\"{col}: {stats['count']} negative values ({stats['percentage']:.2f}%)\")\n",
    "\n",
    "# For transfer time, also check for extreme negative values (potential severe data issues)\n",
    "if 'transfer_t' in df.columns and (df['transfer_t'] < -600).sum() > 0:\n",
    "    print(f\"\\nExtreme negative transfer times (< -10 min): {(df['transfer_t'] < -600).sum()} records\")\n",
    "    # Show a few examples of these problematic records\n",
    "    print(\"\\nSample of records with extremely negative transfer times:\")\n",
    "    print(df[df['transfer_t'] < -600][['transport_type', 'transfer_t', 'is_transfer']].head())\n",
    "\n",
    "# Check for logical inconsistencies \n",
    "# Transfers with zero transfer time\n",
    "if 'transfer_t' in df.columns and 'is_transfer' in df.columns:\n",
    "    zero_transfer_time = ((df['is_transfer'] == True) & (df['transfer_t'] == 0)).sum()\n",
    "    if zero_transfer_time > 0:\n",
    "        print(f\"\\nTransfers with zero transfer time: {zero_transfer_time} records\")\n",
    "\n",
    "# Destination timestamp earlier than origin timestamp\n",
    "if 'origin_ts' in df.columns and 'dest_ts' in df.columns:\n",
    "    time_inconsistency = (df['dest_ts'] < df['origin_ts']).sum()\n",
    "    if time_inconsistency > 0:\n",
    "        print(f\"\\nTrips where destination time is earlier than origin time: {time_inconsistency} records\")\n",
    "        time_diff_minutes = (df['origin_ts'] - df['dest_ts']).where(df['dest_ts'] < df['origin_ts']) / 60000  # convert ms to minutes\n",
    "        print(f\"Average time inconsistency: {time_diff_minutes.mean():.2f} minutes\")"
   ]
  },
  {
   "cell_type": "markdown",
   "metadata": {},
   "source": [
    "strange why date and dest_ts are one year apart?\n",
    "# Exploratory data analysis"
   ]
  },
  {
   "cell_type": "markdown",
   "metadata": {},
   "source": [
    "## Transport type distribution"
   ]
  },
  {
   "cell_type": "code",
   "execution_count": null,
   "metadata": {},
   "outputs": [],
   "source": [
    "df['transport_type'].value_counts()"
   ]
  },
  {
   "cell_type": "code",
   "execution_count": null,
   "metadata": {},
   "outputs": [],
   "source": [
    "# Removed 3 records (0.005% of dataset) with \"unknown\" transport type to ensure accurate transport-specific analysis.\n",
    "df = df[df['transport_type'] != 'unknown']"
   ]
  },
  {
   "cell_type": "code",
   "execution_count": null,
   "metadata": {},
   "outputs": [],
   "source": [
    "# So we'll convert all transport types to lower case to merge 'Tram' and 'tram' etc.\n",
    "df['transport_type'] = df['transport_type'].str.lower()"
   ]
  },
  {
   "cell_type": "code",
   "execution_count": null,
   "metadata": {},
   "outputs": [],
   "source": [
    "transport_counts = df['transport_type'].value_counts()\n",
    "plt.figure(figsize=(10, 6))\n",
    "sns.barplot(x=transport_counts.index, y=transport_counts.values)\n",
    "plt.title('Distribution of Transport Types')\n",
    "plt.ylabel('Number of Trips')\n",
    "plt.xlabel('Transport Type')\n",
    "plt.xticks(rotation=45)\n",
    "# Add bar values\n",
    "for i, v in enumerate(transport_counts.values):\n",
    "    plt.text(i, v + 5, str(v), ha='center', va='bottom')\n",
    "plt.tight_layout()\n",
    "plt.show()"
   ]
  },
  {
   "cell_type": "markdown",
   "metadata": {},
   "source": [
    "## Trip timing analysis"
   ]
  },
  {
   "cell_type": "code",
   "execution_count": null,
   "metadata": {},
   "outputs": [],
   "source": [
    "if 'hour_of_day' in df.columns and df['hour_of_day'] is not None:\n",
    "    hourly_trips = df.groupby(['hour_of_day', 'transport_type']).size().unstack().fillna(0)\n",
    "    plt.figure(figsize=(12, 6))\n",
    "    hourly_trips.plot(kind='line', marker='o')\n",
    "    plt.title('Hourly Trip Distribution by Transport Type')\n",
    "    plt.xlabel('Hour of Day')\n",
    "    plt.ylabel('Number of Trips')\n",
    "    plt.xticks(range(0, 24))\n",
    "    plt.grid(True, alpha=0.3)\n",
    "    plt.tight_layout()\n",
    "    plt.show('hourly_trips.png')"
   ]
  },
  {
   "cell_type": "markdown",
   "metadata": {},
   "source": [
    "### Transport Usage Analysis Summary\n",
    "\n",
    "**Transport Type Distribution:**\n",
    "- Metro dominates with ~37,000 trips (70%+), followed by bus (~5,800 trips)\n",
    "\n",
    "**Hourly Usage Patterns:**\n",
    "- Clear morning peak (8-10) and evening peak (16-19) for all transport modes\n",
    "- Metro volumes significantly exceed all other transportation types"
   ]
  },
  {
   "cell_type": "markdown",
   "metadata": {},
   "source": [
    "# Transfer analysis "
   ]
  },
  {
   "cell_type": "code",
   "execution_count": null,
   "metadata": {},
   "outputs": [],
   "source": [
    "transfer_stats = df.groupby('transport_type')['is_transfer'].mean() * 100\n",
    "plt.figure(figsize=(10, 6))\n",
    "transfer_stats.plot(kind='bar', color='orange')\n",
    "plt.title('Percentage of Transfers by Transport Type')\n",
    "plt.ylabel('Transfer Percentage (%)')\n",
    "plt.xlabel('Transport Type')\n",
    "plt.axhline(y=df['is_transfer'].mean()*100, color='red', linestyle='--', alpha=0.7, \n",
    "            label=f'Overall Average: {df[\"is_transfer\"].mean()*100:.1f}%')\n",
    "plt.legend()\n",
    "plt.tight_layout()\n",
    "plt.show()\n",
    "\n",
    "# Transfer time analysis\n",
    "if 'transfer_t' in df.columns:\n",
    "    # Filter for trips with transfers and avoid invalid transfer times\n",
    "    transfer_trips = df[df['is_transfer'] == True & (df['transfer_t'] > 0)]\n",
    "    \n",
    "    # Transfer time by transport type\n",
    "    plt.figure(figsize=(10, 6))\n",
    "    sns.boxplot(x='transport_type', y='transfer_t', data=transfer_trips)\n",
    "    plt.title('Transfer Time by Transport Type')\n",
    "    plt.ylabel('Transfer Time (seconds)')\n",
    "    plt.xlabel('Transport Type')\n",
    "    plt.xticks(rotation=45)\n",
    "    plt.tight_layout()\n",
    "    plt.show()\n",
    "    \n",
    "    # Calculate efficiency metrics\n",
    "    avg_transfer_time = df[df['is_transfer']]['transfer_t'].mean() / 60  # minutes\n",
    "    print(f\"Average transfer waiting time: {avg_transfer_time:.2f} minutes\")\n",
    "\n",
    "# Transfer disance analysis\n",
    "if 'transfer_dist' in df.columns:\n",
    "    # Filter for trips with transfers\n",
    "    transfer_trips = df[df['is_transfer'] == True]\n",
    "    \n",
    "    # Transfer distance by transport type\n",
    "    plt.figure(figsize=(10, 6))\n",
    "    sns.boxplot(x='transport_type', y='transfer_dist', data=transfer_trips)\n",
    "    plt.title('Transfer Distance by Transport Type')\n",
    "    plt.ylabel('Transfer Distance (meters)')\n",
    "    plt.xlabel('Transport Type')\n",
    "    plt.xticks(rotation=45)\n",
    "    plt.tight_layout()\n",
    "    plt.show()\n",
    "    \n",
    "    # Calculate efficiency metrics\n",
    "    avg_transfer_distance = df[df['is_transfer']]['transfer_dist'].mean() / 1000  # kilometers\n",
    "    print(f\"Average transfer distance: {avg_transfer_distance:.2f} kilometers\")"
   ]
  },
  {
   "cell_type": "markdown",
   "metadata": {},
   "source": [
    "# Transfer Analysis Insights\n",
    "\n",
    "## Transfer Frequency\n",
    "- **Bus** has the highest transfer rate at ~44%, significantly above the overall average of 36.2%.\n",
    "- **Metro** has the lowest transfer rate at ~34%, suggesting it may serve more direct routes or complete journeys.\n",
    "- **Tram** and **Trolleybus** show transfer rates close to or slightly below the overall average.\n",
    "\n",
    "## Transfer Time\n",
    "- **Transfer times** typically range from ~150-750 seconds (2.5-12.5 minutes) across all transport types.\n",
    "- **Tram** shows the highest median transfer time, suggesting potentially less frequent service.\n",
    "- **Metro** displays notable outliers with some negative transfer times, indicating potential data quality issues or system timing anomalies.\n",
    "\n",
    "## Transfer Distance\n",
    "- **Trolleybus** transfers involve the longest distances (median ~100m).\n",
    "- **Metro** shows a weird distribution with many transfers happening at very short distances (0-1m) but also having numerous outliers stretching to 500m.\n",
    "- **Bus** and **Tram** show similar distance distributions with medians around 75-100m.\n",
    "\n",
    "These patterns suggest that while metro is the dominant transport mode, bus connections play a crucial role in the overall network connectivity. The presence of negative transfer times and the unusual metro distance distribution suggest further investigation into data quality and how transfers are recorded in the system. "
   ]
  },
  {
   "cell_type": "markdown",
   "metadata": {},
   "source": [
    "# Geospatial analysis "
   ]
  },
  {
   "cell_type": "code",
   "execution_count": null,
   "metadata": {},
   "outputs": [],
   "source": [
    "# create a map of all trip origins\n",
    "m = folium.Map(location=[df['tap_lat'].mean(), df['tap_lon'].mean()], zoom_start=12)\n",
    "\n",
    "# heatmap layer\n",
    "heat_data = [[row['tap_lat'], row['tap_lon']] for _, row in df.iterrows()]\n",
    "HeatMap(heat_data).add_to(m)\n",
    "m.save('trip_origin_heatmap.html')\n",
    "\n",
    "transport_colors = {\n",
    "    'bus': 'blue',\n",
    "    'metro': 'red',\n",
    "    'trolleybus': 'green',\n",
    "    'tram':  'orange'\n",
    "}\n",
    "\n",
    "m2 = folium.Map(location=[df['tap_lat'].mean(), df['tap_lon'].mean()], zoom_start=12)\n",
    "\n",
    "# add SMALL SAMPLE of points colored by transport type \n",
    "sample_size = min(1000, len(df))\n",
    "for _, row in df.sample(sample_size).iterrows():\n",
    "    color = transport_colors.get(row['transport_type'], 'gray')\n",
    "    folium.CircleMarker(\n",
    "        location=[row['tap_lat'], row['tap_lon']],\n",
    "        radius=3,\n",
    "        color=color,\n",
    "        fill=True,\n",
    "        fill_opacity=0.7,\n",
    "        popup=row['transport_type']\n",
    "    ).add_to(m2)\n",
    "\n",
    "legend_html = '''\n",
    "<div style=\"position: fixed; bottom: 50px; left: 50px; z-index: 1000; background-color: white; \n",
    "padding: 10px; border: 2px solid grey; border-radius: 5px;\">\n",
    "<p><b>Transport Type</b></p>\n",
    "'''\n",
    "for transport, color in transport_colors.items():\n",
    "    legend_html += f'<p><i class=\"fa fa-circle\" style=\"color:{color}\"></i> {transport}</p>'\n",
    "legend_html += '</div>'\n",
    "\n",
    "m2.get_root().html.add_child(folium.Element(legend_html))\n",
    "m2.save('transport_type_map.html')\n",
    "\n",
    "display(m)\n",
    "display(m2)"
   ]
  },
  {
   "cell_type": "code",
   "execution_count": null,
   "metadata": {},
   "outputs": [],
   "source": [
    "from folium.plugins import HeatMapWithTime\n",
    "\n",
    "m4 = folium.Map(location=[df['tap_lat'].mean(), df['tap_lon'].mean()], zoom_start=12)\n",
    "\n",
    "# Create a column for hour if it doesn't exist yet\n",
    "if 'hour' not in df.columns and 'dest_datetime' in df.columns:\n",
    "    df['hour'] = df['dest_datetime'].dt.hour\n",
    "elif 'hour' not in df.columns and 'origin_ts' in df.columns:\n",
    "    df['origin_datetime'] = pd.to_datetime(df['origin_ts'], unit='ms')\n",
    "    df['hour'] = df['origin_datetime'].dt.hour\n",
    "\n",
    "heat_data_by_hour = []\n",
    "hour_labels = []\n",
    "\n",
    "# Process data for each hour\n",
    "for hour in range(24):\n",
    "    hour_data = df[df['hour'] == hour]\n",
    "    \n",
    "    hour_heat_data = [[row['tap_lat'], row['tap_lon'], 1] for _, row in hour_data.iterrows()]\n",
    "    heat_data_by_hour.append(hour_heat_data)\n",
    "    \n",
    "    hour_labels.append(f\"{hour}:00\")\n",
    "\n",
    "HeatMapWithTime(\n",
    "    heat_data_by_hour,\n",
    "    index=hour_labels,\n",
    "    auto_play=True,\n",
    "    max_opacity=0.8,\n",
    "    radius=15,\n",
    "    gradient={\n",
    "        0.2: 'blue',\n",
    "        0.4: 'lime',\n",
    "        0.6: 'yellow',\n",
    "        0.8: 'orange',\n",
    "        1.0: 'red'\n",
    "    },\n",
    "    min_opacity=0.5,\n",
    "    use_local_extrema=True  \n",
    ").add_to(m4)\n",
    "\n",
    "title_html = '''\n",
    "<div style=\"position: fixed; top: 10px; left: 50%; transform: translateX(-50%); \n",
    "background-color: white; padding: 10px; border: 2px solid grey; border-radius: 5px; z-index: 1000;\">\n",
    "<h3>Public Transport Usage by Hour</h3>\n",
    "</div>\n",
    "'''\n",
    "m4.get_root().html.add_child(folium.Element(title_html))\n",
    "\n",
    "m4.save('hourly_heatmap.html')\n",
    "display(m4)"
   ]
  },
  {
   "cell_type": "markdown",
   "metadata": {},
   "source": [
    "# Clustering analysis"
   ]
  }
 ],
 "metadata": {
  "kernelspec": {
   "display_name": "base",
   "language": "python",
   "name": "python3"
  },
  "language_info": {
   "codemirror_mode": {
    "name": "ipython",
    "version": 3
   },
   "file_extension": ".py",
   "mimetype": "text/x-python",
   "name": "python",
   "nbconvert_exporter": "python",
   "pygments_lexer": "ipython3",
   "version": "3.11.5"
  }
 },
 "nbformat": 4,
 "nbformat_minor": 2
}
